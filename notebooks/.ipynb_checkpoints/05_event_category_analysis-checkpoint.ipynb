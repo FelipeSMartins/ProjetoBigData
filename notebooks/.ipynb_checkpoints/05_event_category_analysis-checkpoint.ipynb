{
 "cells": [
  {
   "cell_type": "markdown",
   "metadata": {},
   "source": [
    "# Análise por Eventos e Categorias\n",
    "\n",
    "Este notebook calcula preços médios e variações antes, durante e depois de grandes eventos, separados por categorias: Tecnologia, Agronegócio, Fundos Imobiliários, Dólar, Petróleo e Gás.\n",
    "\n",
    "Parâmetros padrão: 90 dias antes, 14 dias em torno do evento (durante), 90 dias depois."
   ]
  },
  {
   "cell_type": "code",
   "execution_count": null,
   "metadata": {},
   "outputs": [],
   "source": [
    "import pandas as pd\n",
    "import numpy as np\n",
    "import yfinance as yf\n",
    "from datetime import datetime, timedelta\n",
    "\n",
    "pd.set_option('display.max_columns', 100)\n",
    "pd.set_option('display.width', 160)\n",
    "print('✅ Imports prontos')"
   ]
  },
  {
   "cell_type": "code",
   "execution_count": null,
   "metadata": {},
   "outputs": [],
   "source": [
    "# Definição de categorias e símbolos\n",
    "categories = {\n",
    "    'Tecnologia': ['AAPL', 'MSFT', 'GOOGL', 'NVDA', 'TSLA'],\n",
    "    'Agronegocio': ['SLCE3.SA', 'ADM', 'CTVA'],\n",
    "    'Fundos Imobiliarios': ['HGLG11.SA', 'MXRF11.SA', 'KNRI11.SA'],\n",
    "    'Dolar': ['DX=F', 'USDBRL=X'],\n",
    "    'Petroleo e Gas': ['CL=F', 'XOM', 'CVX', 'PETR4.SA']\n",
    "}\n",
    "\n",
    "print('📋 Categorias definidas:', list(categories.keys()))"
   ]
  },
  {
   "cell_type": "code",
   "execution_count": null,
   "metadata": {},
   "outputs": [],
   "source": [
    "# Eventos e parâmetros\n",
    "events = {\n",
    "    'COVID-19 (WHO Pandemic)': '2020-03-11',\n",
    "    'Ukraine Invasion': '2022-02-24',\n",
    "    'Brexit Referendum': '2016-06-23',\n",
    "    'COVID Oil Crash': '2020-04-20'\n",
    "}\n",
    "\n",
    "PRE_DAYS = 90\n",
    "DURING_DAYS = 14  # janela simétrica: 7 dias antes e 7 depois\n",
    "POST_DAYS = 90\n",
    "\n",
    "print('🗓️ Eventos:', events)"
   ]
  },
  {
   "cell_type": "code",
   "execution_count": null,
   "metadata": {},
   "outputs": [],
   "source": [
    "# Funções auxiliares\n",
    "def fetch_close_series(symbol: str, start: pd.Timestamp, end: pd.Timestamp) -> pd.Series:\n",
    "    try:\n",
    "        df = yf.download(symbol, start=start.strftime('%Y-%m-%d'), end=end.strftime('%Y-%m-%d'), interval='1d', progress=False)\n",
    "        if isinstance(df, pd.DataFrame) and 'Close' in df.columns:\n",
    "            return df['Close'].dropna()\n",
    "        return pd.Series(dtype=float)\n",
    "    except Exception as e:\n",
    "        print(f'Erro ao baixar {symbol}:', e)\n",
    "        return pd.Series(dtype=float)\n",
    "\n",
    "def compute_windows(series: pd.Series, event_date: pd.Timestamp, pre_days=90, during_days=14, post_days=90):\n",
    "    # define janelas\n",
    "    pre_start = event_date - pd.Timedelta(days=pre_days)\n",
    "    pre_end = event_date - pd.Timedelta(days=1)\n",
    "    during_start = event_date - pd.Timedelta(days=during_days // 2)\n",
    "    during_end = event_date + pd.Timedelta(days=during_days // 2)\n",
    "    post_start = event_date + pd.Timedelta(days=1)\n",
    "    post_end = event_date + pd.Timedelta(days=post_days)\n",
    "\n",
    "    pre = series.loc[(series.index >= pre_start) & (series.index <= pre_end)]\n",
    "    during = series.loc[(series.index >= during_start) & (series.index <= during_end)]\n",
    "    post = series.loc[(series.index >= post_start) & (series.index <= post_end)]\n",
    "\n",
    "    return {\n",
    "        'pre_mean': float(pre.mean()) if not pre.empty else np.nan,\n",
    "        'during_mean': float(during.mean()) if not during.empty else np.nan,\n",
    "        'post_mean': float(post.mean()) if not post.empty else np.nan\n",
    "    }\n",
    "\n",
    "def analyze_category_event(category: str, symbols: list, event_name: str, event_date_str: str, pre_days=90, during_days=14, post_days=90) -> dict:\n",
    "    event_date = pd.to_datetime(event_date_str)\n",
    "    start = event_date - pd.Timedelta(days=pre_days)\n",
    "    end = event_date + pd.Timedelta(days=post_days)\n",
    "\n",
    "    metrics = []\n",
    "    for sym in symbols:\n",
    "        series = fetch_close_series(sym, start, end)\n",
    "        if series.empty:\n",
    "            continue\n",
    "        w = compute_windows(series, event_date, pre_days, during_days, post_days)\n",
    "        metrics.append(w)\n",
    "\n",
    "    if not metrics:\n",
    "        return {\n",
    "            'Categoria': category, 'Evento': event_name, 'DataEvento': event_date_str,\n",
    "            'PreMean': np.nan, 'DuringMean': np.nan, 'PostMean': np.nan,\n",
    "            'PctPreToDuring': np.nan, 'PctDuringToPost': np.nan\n",
    "        }\n",
    "\n",
    "    pre_mean = float(np.nanmean([m['pre_mean'] for m in metrics]))\n",
    "    during_mean = float(np.nanmean([m['during_mean'] for m in metrics]))\n",
    "    post_mean = float(np.nanmean([m['post_mean'] for m in metrics]))\n",
    "\n",
    "    pct_pre_during = (during_mean / pre_mean - 1) * 100 if pre_mean and not np.isnan(pre_mean) else np.nan\n",
    "    pct_during_post = (post_mean / during_mean - 1) * 100 if during_mean and not np.isnan(during_mean) else np.nan\n",
    "\n",
    "    return {\n",
    "        'Categoria': category, 'Evento': event_name, 'DataEvento': event_date_str,\n",
    "        'PreMean': round(pre_mean, 4), 'DuringMean': round(during_mean, 4), 'PostMean': round(post_mean, 4),\n",
    "        'PctPreToDuring': round(pct_pre_during, 3) if not np.isnan(pct_pre_during) else np.nan,\n",
    "        'PctDuringToPost': round(pct_during_post, 3) if not np.isnan(pct_during_post) else np.nan\n",
    "    }\n"
   ]
  },
  {
   "cell_type": "code",
   "execution_count": null,
   "metadata": {},
   "outputs": [],
   "source": [
    "# Executar análise para todas as categorias e eventos\n",
    "results = []\n",
    "for cat_name, symbols in categories.items():\n",
    "    for evt_name, evt_date in events.items():\n",
    "        r = analyze_category_event(cat_name, symbols, evt_name, evt_date, PRE_DAYS, DURING_DAYS, POST_DAYS)\n",
    "        results.append(r)\n",
    "\n",
    "df_results = pd.DataFrame(results)\n",
    "df_results\n"
   ]
  },
  {
   "cell_type": "code",
   "execution_count": null,
   "metadata": {},
   "outputs": [],
   "source": [
    "# Salvar resultados em CSV (na pasta notebooks/data/raw)\n",
    "out_path = 'notebooks/data/raw/event_category_analysis.csv'\n",
    "import os\n",
    "os.makedirs('notebooks/data/raw', exist_ok=True)\n",
    "df_results.to_csv(out_path, index=False)\n",
    "print('💾 Resultados salvos em:', out_path)"
   ]
  },
  {
   "cell_type": "code",
   "execution_count": null,
   "metadata": {},
   "outputs": [],
   "source": [
    "# Visualização rápida para a categoria Dólar em COVID-19\n",
    "evt = 'COVID-19 (WHO Pandemic)'\n",
    "evt_date = pd.to_datetime(events[evt])\n",
    "symbols = categories['Dolar']\n",
    "start = evt_date - pd.Timedelta(days=PRE_DAYS)\n",
    "end = evt_date + pd.Timedelta(days=POST_DAYS)\n",
    "\n",
    "data = {}\n",
    "for s in symbols:\n",
    "    ser = fetch_close_series(s, start, end)\n",
    "    if not ser.empty:\n",
    "        data[s] = ser\n",
    "\n",
    "if data:\n",
    "    df_plot = pd.DataFrame(data)\n",
    "    ax = df_plot.plot(figsize=(12,5), title=f'Dólar - {evt}')\n",
    "    ax.axvline(evt_date, color='red', linestyle='--', label='Evento')\n",
    "    ax.legend()\n",
    "else:\n",
    "    print('Sem dados para visualização')\n"
   ]
  }
 ],
 "metadata": {
  "kernelspec": {
   "display_name": "Python 3",
   "language": "python",
   "name": "python3"
  },
  "language_info": {
   "name": "python",
   "version": "3.10"
  }
 },
 "nbformat": 4,
 "nbformat_minor": 5
}