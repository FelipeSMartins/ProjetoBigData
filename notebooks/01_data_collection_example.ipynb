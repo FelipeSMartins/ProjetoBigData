{
 "cells": [
  {
   "cell_type": "markdown",
   "metadata": {},
   "source": [
    "# 📊 Exemplo de Coleta de Dados - Big Data Finance\n",
    "\n",
    "Este notebook demonstra como usar os módulos de coleta de dados do projeto Big Data Finance.\n",
    "\n",
    "## Objetivos\n",
    "- Coletar dados financeiros do Yahoo Finance\n",
    "- Coletar notícias e eventos mundiais\n",
    "- Salvar dados em diferentes formatos\n",
    "- Demonstrar rate limiting e tratamento de erros\n",
    "\n",
    "**Autor:** Felipe Martins (APIs e Coleta de Dados) & Equipe Big Data Finance  \n",
    "**Gestão:** Fabio  \n",
    "**Infraestrutura:** Ana Luiza Pazze  \n",
    "**Data:** 2024"
   ]
  },
  {
   "cell_type": "code",
   "execution_count": null,
   "metadata": {},
   "outputs": [],
   "source": [
    "# Imports necessários\n",
    "import sys\n",
    "import os\n",
    "import pandas as pd\n",
    "import numpy as np\n",
    "import matplotlib.pyplot as plt\n",
    "import seaborn as sns\n",
    "from datetime import datetime, timedelta\n",
    "import warnings\n",
    "warnings.filterwarnings('ignore')\n",
    "\n",
    "# Adicionar src ao path\n",
    "sys.path.append('../src')\n",
    "\n",
    "# Imports dos módulos do projeto\n",
    "from data_collection.yahoo_finance_collector import YahooFinanceCollector\n",
    "from data_collection.news_collector import NewsCollector\n",
    "\n",
    "print(\"✅ Imports realizados com sucesso!\")"
   ]
  },
  {
   "cell_type": "markdown",
   "metadata": {},
   "source": [
    "## 1. 📈 Coleta de Dados Financeiros\n",
    "\n",
    "Vamos começar coletando dados financeiros usando o Yahoo Finance API."
   ]
  },
  {
   "cell_type": "code",
   "execution_count": null,
   "metadata": {},
   "outputs": [],
   "source": [
    "# Inicializar o coletor Yahoo Finance\n",
    "yahoo_collector = YahooFinanceCollector(rate_limit=1.0)\n",
    "\n",
    "# Definir período de análise\n",
    "end_date = datetime.now().strftime('%Y-%m-%d')\n",
    "start_date = (datetime.now() - timedelta(days=365)).strftime('%Y-%m-%d')\n",
    "\n",
    "print(f\"📅 Período de análise: {start_date} até {end_date}\")\n",
    "print(f\"🔧 Rate limit configurado: {yahoo_collector.rate_limit} segundos\")"
   ]
  },
  {
   "cell_type": "markdown",
   "metadata": {},
   "source": [
    "### 1.1 Coleta de Dados de Ações"
   ]
  },
  {
   "cell_type": "code",
   "execution_count": null,
   "metadata": {},
   "outputs": [],
   "source": [
    "# Símbolos de ações para análise\n",
    "stock_symbols = ['AAPL', 'GOOGL', 'MSFT', 'TSLA', 'AMZN']\n",
    "\n",
    "print(f\"📊 Coletando dados para: {', '.join(stock_symbols)}\")\n",
    "print(\"⏳ Aguarde... (pode levar alguns minutos devido ao rate limiting)\")\n",
    "\n",
    "# Coletar dados de ações\n",
    "stock_data = yahoo_collector.collect_stock_data(\n",
    "    symbols=stock_symbols,\n",
    "    start_date=start_date,\n",
    "    end_date=end_date\n",
    ")\n",
    "\n",
    "print(f\"✅ Dados coletados: {len(stock_data)} registros\")\n",
    "print(f\"📋 Colunas disponíveis: {list(stock_data.columns)}\")\n",
    "\n",
    "# Visualizar primeiros registros\n",
    "display(stock_data.head())"
   ]
  },
  {
   "cell_type": "markdown",
   "metadata": {},
   "source": [
    "### 1.2 Coleta de Dados de Índices"
   ]
  },
  {
   "cell_type": "code",
   "execution_count": null,
   "metadata": {},
   "outputs": [],
   "source": [
    "# Índices principais\n",
    "index_symbols = ['^GSPC', '^DJI', '^IXIC', '^RUT']\n",
    "index_names = ['S&P 500', 'Dow Jones', 'NASDAQ', 'Russell 2000']\n",
    "\n",
    "print(f\"📈 Coletando dados de índices: {', '.join(index_names)}\")\n",
    "\n",
    "# Coletar dados de índices\n",
    "index_data = yahoo_collector.collect_index_data(\n",
    "    symbols=index_symbols,\n",
    "    start_date=start_date,\n",
    "    end_date=end_date\n",
    ")\n",
    "\n",
    "print(f\"✅ Dados de índices coletados: {len(index_data)} registros\")\n",
    "\n",
    "# Visualizar dados\n",
    "display(index_data.head())"
   ]
  },
  {
   "cell_type": "markdown",
   "metadata": {},
   "source": [
    "### 1.3 Informações das Empresas"
   ]
  },
  {
   "cell_type": "code",
   "execution_count": null,
   "metadata": {},
   "outputs": [],
   "source": [
    "# Coletar informações detalhadas das empresas\n",
    "company_info = {}\n",
    "\n",
    "for symbol in stock_symbols[:3]:  # Apenas 3 para exemplo\n",
    "    print(f\"🏢 Coletando informações de {symbol}...\")\n",
    "    info = yahoo_collector.collect_company_info(symbol)\n",
    "    company_info[symbol] = info\n",
    "\n",
    "# Criar DataFrame com informações principais\n",
    "info_df = pd.DataFrame({\n",
    "    symbol: {\n",
    "        'Nome': info.get('longName', 'N/A'),\n",
    "        'Setor': info.get('sector', 'N/A'),\n",
    "        'Indústria': info.get('industry', 'N/A'),\n",
    "        'Market Cap': info.get('marketCap', 'N/A'),\n",
    "        'P/E Ratio': info.get('trailingPE', 'N/A')\n",
    "    } for symbol, info in company_info.items()\n",
    "}).T\n",
    "\n",
    "print(\"📋 Informações das empresas:\")\n",
    "display(info_df)"
   ]
  },
  {
   "cell_type": "markdown",
   "metadata": {},
   "source": [
    "## 2. 📰 Coleta de Notícias e Eventos\n",
    "\n",
    "Agora vamos coletar notícias e eventos mundiais que podem impactar os mercados."
   ]
  },
  {
   "cell_type": "code",
   "execution_count": null,
   "metadata": {},
   "outputs": [],
   "source": [
    "# Inicializar coletor de notícias\n",
    "news_collector = NewsCollector()\n",
    "\n",
    "# Palavras-chave para eventos relevantes\n",
    "keywords = [\n",
    "    'Federal Reserve', 'inflation', 'GDP', 'unemployment',\n",
    "    'trade war', 'COVID', 'recession', 'interest rates'\n",
    "]\n",
    "\n",
    "print(f\"📰 Coletando eventos com palavras-chave: {', '.join(keywords)}\")\n",
    "print(\"⏳ Aguarde... (pode levar alguns minutos)\")"
   ]
  },
  {
   "cell_type": "code",
   "execution_count": null,
   "metadata": {},
   "outputs": [],
   "source": [
    "# Coletar eventos históricos\n",
    "events_data = news_collector.collect_historical_events(\n",
    "    start_date=start_date,\n",
    "    end_date=end_date,\n",
    "    keywords=keywords\n",
    ")\n",
    "\n",
    "print(f\"✅ Eventos coletados: {len(events_data)} registros\")\n",
    "print(f\"📋 Colunas disponíveis: {list(events_data.columns)}\")\n",
    "\n",
    "# Visualizar eventos\n",
    "if not events_data.empty:\n",
    "    display(events_data.head())\n",
    "else:\n",
    "    print(\"⚠️ Nenhum evento encontrado (pode ser devido a limitações da API)\")"
   ]
  },
  {
   "cell_type": "markdown",
   "metadata": {},
   "source": [
    "## 3. 📊 Análise Exploratória dos Dados Coletados\n",
    "\n",
    "Vamos fazer uma análise inicial dos dados coletados."
   ]
  },
  {
   "cell_type": "markdown",
   "metadata": {},
   "source": [
    "### 3.1 Análise dos Dados Financeiros"
   ]
  },
  {
   "cell_type": "code",
   "execution_count": null,
   "metadata": {},
   "outputs": [],
   "source": [
    "# Estatísticas descritivas\n",
    "print(\"📊 Estatísticas Descritivas dos Preços de Fechamento:\")\n",
    "print(\"=\" * 60)\n",
    "\n",
    "# Filtrar apenas preços de fechamento\n",
    "close_prices = stock_data.pivot_table(\n",
    "    index='date', \n",
    "    columns='symbol', \n",
    "    values='close'\n",
    ")\n",
    "\n",
    "display(close_prices.describe())"
   ]
  },
  {
   "cell_type": "code",
   "execution_count": null,
   "metadata": {},
   "outputs": [],
   "source": [
    "# Gráfico de preços normalizados\n",
    "plt.figure(figsize=(12, 8))\n",
    "\n",
    "# Normalizar preços para base 100\n",
    "normalized_prices = close_prices.div(close_prices.iloc[0]) * 100\n",
    "\n",
    "for symbol in normalized_prices.columns:\n",
    "    plt.plot(normalized_prices.index, normalized_prices[symbol], \n",
    "             label=symbol, linewidth=2)\n",
    "\n",
    "plt.title('📈 Performance Normalizada das Ações (Base 100)', fontsize=16, fontweight='bold')\n",
    "plt.xlabel('Data', fontsize=12)\n",
    "plt.ylabel('Preço Normalizado', fontsize=12)\n",
    "plt.legend()\n",
    "plt.grid(True, alpha=0.3)\n",
    "plt.tight_layout()\n",
    "plt.show()\n",
    "\n",
    "# Performance no período\n",
    "performance = ((close_prices.iloc[-1] / close_prices.iloc[0]) - 1) * 100\n",
    "print(\"\\n🎯 Performance no Período (%)\")\n",
    "print(\"=\" * 30)\n",
    "for symbol, perf in performance.items():\n",
    "    print(f\"{symbol}: {perf:+.2f}%\")"
   ]
  },
  {
   "cell_type": "markdown",
   "metadata": {},
   "source": [
    "### 3.2 Análise de Volume"
   ]
  },
  {
   "cell_type": "code",
   "execution_count": null,
   "metadata": {},
   "outputs": [],
   "source": [
    "# Análise de volume\n",
    "volume_data = stock_data.pivot_table(\n",
    "    index='date', \n",
    "    columns='symbol', \n",
    "    values='volume'\n",
    ")\n",
    "\n",
    "plt.figure(figsize=(12, 6))\n",
    "\n",
    "# Volume médio por ação\n",
    "avg_volume = volume_data.mean()\n",
    "avg_volume.plot(kind='bar', color='skyblue', alpha=0.7)\n",
    "\n",
    "plt.title('📊 Volume Médio de Negociação por Ação', fontsize=16, fontweight='bold')\n",
    "plt.xlabel('Símbolo', fontsize=12)\n",
    "plt.ylabel('Volume Médio', fontsize=12)\n",
    "plt.xticks(rotation=45)\n",
    "plt.grid(True, alpha=0.3)\n",
    "\n",
    "# Adicionar valores nas barras\n",
    "for i, v in enumerate(avg_volume):\n",
    "    plt.text(i, v + v*0.01, f'{v:,.0f}', ha='center', va='bottom')\n",
    "\n",
    "plt.tight_layout()\n",
    "plt.show()"
   ]
  },
  {
   "cell_type": "markdown",
   "metadata": {},
   "source": [
    "### 3.3 Análise de Volatilidade"
   ]
  },
  {
   "cell_type": "code",
   "execution_count": null,
   "metadata": {},
   "outputs": [],
   "source": [
    "# Calcular retornos diários\n",
    "returns = close_prices.pct_change().dropna()\n",
    "\n",
    "# Volatilidade (desvio padrão anualizado)\n",
    "volatility = returns.std() * np.sqrt(252) * 100\n",
    "\n",
    "plt.figure(figsize=(10, 6))\n",
    "volatility.plot(kind='bar', color='coral', alpha=0.7)\n",
    "\n",
    "plt.title('📈 Volatilidade Anualizada por Ação (%)', fontsize=16, fontweight='bold')\n",
    "plt.xlabel('Símbolo', fontsize=12)\n",
    "plt.ylabel('Volatilidade (%)', fontsize=12)\n",
    "plt.xticks(rotation=45)\n",
    "plt.grid(True, alpha=0.3)\n",
    "\n",
    "# Adicionar valores nas barras\n",
    "for i, v in enumerate(volatility):\n",
    "    plt.text(i, v + v*0.01, f'{v:.1f}%', ha='center', va='bottom')\n",
    "\n",
    "plt.tight_layout()\n",
    "plt.show()\n",
    "\n",
    "print(\"\\n📊 Ranking de Volatilidade:\")\n",
    "print(\"=\" * 30)\n",
    "for i, (symbol, vol) in enumerate(volatility.sort_values(ascending=False).items(), 1):\n",
    "    print(f\"{i}. {symbol}: {vol:.2f}%\")"
   ]
  },
  {
   "cell_type": "markdown",
   "metadata": {},
   "source": [
    "### 3.4 Matriz de Correlação"
   ]
  },
  {
   "cell_type": "code",
   "execution_count": null,
   "metadata": {},
   "outputs": [],
   "source": [
    "# Matriz de correlação dos retornos\n",
    "correlation_matrix = returns.corr()\n",
    "\n",
    "plt.figure(figsize=(10, 8))\n",
    "sns.heatmap(correlation_matrix, \n",
    "            annot=True, \n",
    "            cmap='RdBu_r', \n",
    "            center=0,\n",
    "            square=True, \n",
    "            linewidths=0.5,\n",
    "            fmt='.3f')\n",
    "\n",
    "plt.title('🔗 Matriz de Correlação dos Retornos', fontsize=16, fontweight='bold')\n",
    "plt.tight_layout()\n",
    "plt.show()\n",
    "\n",
    "# Pares mais correlacionados\n",
    "print(\"\\n🔗 Pares Mais Correlacionados:\")\n",
    "print(\"=\" * 35)\n",
    "\n",
    "# Extrair correlações (excluindo diagonal)\n",
    "corr_pairs = []\n",
    "for i in range(len(correlation_matrix.columns)):\n",
    "    for j in range(i+1, len(correlation_matrix.columns)):\n",
    "        symbol1 = correlation_matrix.columns[i]\n",
    "        symbol2 = correlation_matrix.columns[j]\n",
    "        corr_value = correlation_matrix.iloc[i, j]\n",
    "        corr_pairs.append((symbol1, symbol2, corr_value))\n",
    "\n",
    "# Ordenar por correlação\n",
    "corr_pairs.sort(key=lambda x: abs(x[2]), reverse=True)\n",
    "\n",
    "for symbol1, symbol2, corr in corr_pairs[:5]:\n",
    "    print(f\"{symbol1} - {symbol2}: {corr:.3f}\")"
   ]
  },
  {
   "cell_type": "markdown",
   "metadata": {},
   "source": [
    "## 4. 💾 Salvamento dos Dados\n",
    "\n",
    "Vamos salvar os dados coletados em diferentes formatos para uso posterior."
   ]
  },
  {
   "cell_type": "code",
   "execution_count": null,
   "metadata": {},
   "outputs": [],
   "source": [
    "# Criar diretório de dados se não existir\n",
    "data_dir = '../data/raw'\n",
    "os.makedirs(data_dir, exist_ok=True)\n",
    "\n",
    "# Salvar dados de ações\n",
    "stock_file = f\"{data_dir}/stock_data_{datetime.now().strftime('%Y%m%d')}.csv\"\n",
    "stock_data.to_csv(stock_file, index=False)\n",
    "print(f\"✅ Dados de ações salvos: {stock_file}\")\n",
    "\n",
    "# Salvar dados de índices\n",
    "index_file = f\"{data_dir}/index_data_{datetime.now().strftime('%Y%m%d')}.csv\"\n",
    "index_data.to_csv(index_file, index=False)\n",
    "print(f\"✅ Dados de índices salvos: {index_file}\")\n",
    "\n",
    "# Salvar informações das empresas\n",
    "info_file = f\"{data_dir}/company_info_{datetime.now().strftime('%Y%m%d')}.csv\"\n",
    "info_df.to_csv(info_file)\n",
    "print(f\"✅ Informações das empresas salvas: {info_file}\")\n",
    "\n",
    "# Salvar eventos (se houver)\n",
    "if not events_data.empty:\n",
    "    events_file = f\"{data_dir}/events_data_{datetime.now().strftime('%Y%m%d')}.csv\"\n",
    "    events_data.to_csv(events_file, index=False)\n",
    "    print(f\"✅ Dados de eventos salvos: {events_file}\")\n",
    "\n",
    "print(f\"\\n📁 Todos os dados salvos em: {os.path.abspath(data_dir)}\")"
   ]
  },
  {
   "cell_type": "markdown",
   "metadata": {},
   "source": [
    "## 5. 📋 Resumo e Próximos Passos\n",
    "\n",
    "### ✅ O que foi realizado:\n",
    "1. **Coleta de dados financeiros** usando Yahoo Finance API\n",
    "2. **Coleta de informações de empresas** (setor, indústria, métricas)\n",
    "3. **Coleta de dados de índices** principais do mercado\n",
    "4. **Tentativa de coleta de eventos** (limitada por APIs)\n",
    "5. **Análise exploratória** dos dados coletados\n",
    "6. **Salvamento dos dados** em formato CSV\n",
    "\n",
    "### 📊 Estatísticas da coleta:"
   ]
  },
  {
   "cell_type": "code",
   "execution_count": null,
   "metadata": {},
   "outputs": [],
   "source": [
    "# Resumo estatístico\n",
    "print(\"📊 RESUMO DA COLETA DE DADOS\")\n",
    "print(\"=\" * 50)\n",
    "print(f\"📈 Ações coletadas: {len(stock_symbols)} símbolos\")\n",
    "print(f\"📊 Registros de ações: {len(stock_data):,}\")\n",
    "print(f\"📈 Índices coletados: {len(index_symbols)} símbolos\")\n",
    "print(f\"📊 Registros de índices: {len(index_data):,}\")\n",
    "print(f\"🏢 Empresas analisadas: {len(company_info)}\")\n",
    "print(f\"📰 Eventos coletados: {len(events_data) if not events_data.empty else 0}\")\n",
    "print(f\"📅 Período analisado: {start_date} a {end_date}\")\n",
    "print(f\"📁 Arquivos salvos: {4 if not events_data.empty else 3}\")\n",
    "\n",
    "print(\"\\n🎯 PRÓXIMOS PASSOS:\")\n",
    "print(\"=\" * 30)\n",
    "print(\"1. 🔄 Processar dados com Apache Spark\")\n",
    "print(\"2. 📊 Análise estatística avançada\")\n",
    "print(\"3. 🤖 Aplicar modelos de Machine Learning\")\n",
    "print(\"4. 💭 Análise de sentimentos das notícias\")\n",
    "print(\"5. 📈 Criar visualizações interativas\")\n",
    "print(\"6. 🔗 Analisar correlações com eventos\")\n",
    "\n",
    "print(\"\\n✨ Notebook concluído com sucesso!\")"
   ]
  },
  {
   "cell_type": "markdown",
   "metadata": {},
   "source": [
    "---\n",
    "\n",
    "## 📚 Referências e Links Úteis\n",
    "\n",
    "- **Yahoo Finance API**: [yfinance documentation](https://pypi.org/project/yfinance/)\n",
    "- **Pandas**: [pandas.pydata.org](https://pandas.pydata.org/)\n",
    "- **Matplotlib**: [matplotlib.org](https://matplotlib.org/)\n",
    "- **Seaborn**: [seaborn.pydata.org](https://seaborn.pydata.org/)\n",
    "\n",
    "---\n",
    "\n",
    "**Desenvolvido pela Equipe Big Data Finance**  \n",
    "**Notebook:** 01_data_collection_example.ipynb  \n",
    "**Versão:** 1.0"
   ]
  }
 ],
 "metadata": {
  "kernelspec": {
   "display_name": "Python 3",
   "language": "python",
   "name": "python3"
  },
  "language_info": {
   "codemirror_mode": {
    "name": "ipython",
    "version": 3
   },
   "file_extension": ".py",
   "mimetype": "text/x-python",
   "name": "python",
   "nbconvert_exporter": "python",
   "pygments_lexer": "ipython3",
   "version": "3.9.0"
  }
 },
 "nbformat": 4,
 "nbformat_minor": 4
}