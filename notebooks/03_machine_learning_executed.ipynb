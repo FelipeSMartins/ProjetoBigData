{
 "cells": [
  {
   "cell_type": "markdown",
   "metadata": {},
   "source": [
    "# 🤖 Machine Learning e Análise de Sentimentos - Big Data Finance\n",
    "\n",
    "Este notebook demonstra como aplicar técnicas de Machine Learning e análise de sentimentos aos dados financeiros.\n",
    "\n",
    "## Objetivos\n",
    "- Engenharia de features para dados financeiros\n",
    "- Modelos preditivos para impacto de eventos\n",
    "- Análise de sentimento de notícias\n",
    "- Avaliação e persistência de modelos"
   ]
  },
  {
   "cell_type": "code",
   "execution_count": 1,
   "metadata": {
    "execution": {
     "iopub.execute_input": "2025-10-02T02:23:17.928540Z",
     "iopub.status.busy": "2025-10-02T02:23:17.928354Z",
     "iopub.status.idle": "2025-10-02T02:23:19.076563Z",
     "shell.execute_reply": "2025-10-02T02:23:19.075857Z"
    }
   },
   "outputs": [
    {
     "name": "stdout",
     "output_type": "stream",
     "text": [
      "📦 Bibliotecas importadas com sucesso!\n"
     ]
    }
   ],
   "source": [
    "# Importações necessárias\n",
    "import pandas as pd\n",
    "import numpy as np\n",
    "import matplotlib.pyplot as plt\n",
    "import seaborn as sns\n",
    "from sklearn.ensemble import RandomForestRegressor, GradientBoostingRegressor\n",
    "from sklearn.model_selection import train_test_split, cross_val_score\n",
    "from sklearn.metrics import mean_squared_error, r2_score, mean_absolute_error\n",
    "from sklearn.preprocessing import StandardScaler, LabelEncoder\n",
    "import joblib\n",
    "import os\n",
    "import json\n",
    "from datetime import datetime, timedelta\n",
    "import warnings\n",
    "warnings.filterwarnings('ignore')\n",
    "\n",
    "print(\"📦 Bibliotecas importadas com sucesso!\")"
   ]
  },
  {
   "cell_type": "markdown",
   "metadata": {},
   "source": [
    "## 📊 Carregamento e Preparação dos Dados"
   ]
  },
  {
   "cell_type": "code",
   "execution_count": 2,
   "metadata": {
    "execution": {
     "iopub.execute_input": "2025-10-02T02:23:19.098174Z",
     "iopub.status.busy": "2025-10-02T02:23:19.097879Z",
     "iopub.status.idle": "2025-10-02T02:23:19.101524Z",
     "shell.execute_reply": "2025-10-02T02:23:19.101150Z"
    }
   },
   "outputs": [
    {
     "name": "stdout",
     "output_type": "stream",
     "text": [
      "📁 Diretórios configurados:\n",
      "  • Dados: ../data/processed\n",
      "  • Resultados: ../results\n",
      "  • Modelos: ../results\\models\n"
     ]
    }
   ],
   "source": [
    "# Configuração de diretórios\n",
    "data_dir = '../data/processed'\n",
    "results_dir = '../results'\n",
    "models_dir = os.path.join(results_dir, 'models')\n",
    "\n",
    "# Criar diretório de modelos se não existir\n",
    "os.makedirs(models_dir, exist_ok=True)\n",
    "\n",
    "print(f\"📁 Diretórios configurados:\")\n",
    "print(f\"  • Dados: {data_dir}\")\n",
    "print(f\"  • Resultados: {results_dir}\")\n",
    "print(f\"  • Modelos: {models_dir}\")"
   ]
  },
  {
   "cell_type": "code",
   "execution_count": 3,
   "metadata": {
    "execution": {
     "iopub.execute_input": "2025-10-02T02:23:19.103296Z",
     "iopub.status.busy": "2025-10-02T02:23:19.103061Z",
     "iopub.status.idle": "2025-10-02T02:23:19.106921Z",
     "shell.execute_reply": "2025-10-02T02:23:19.106546Z"
    }
   },
   "outputs": [
    {
     "name": "stdout",
     "output_type": "stream",
     "text": [
      "❌ Erro ao carregar dados: [Errno 2] No such file or directory: '../data/processed\\\\prices_processed.csv'\n",
      "💡 Execute primeiro os notebooks de coleta e processamento de dados\n"
     ]
    }
   ],
   "source": [
    "# Carregar dados processados\n",
    "try:\n",
    "    # Dados de preços\n",
    "    prices_df = pd.read_csv(os.path.join(data_dir, 'prices_processed.csv'))\n",
    "    prices_df['date'] = pd.to_datetime(prices_df['date'])\n",
    "    \n",
    "    # Dados de eventos\n",
    "    events_df = pd.read_csv(os.path.join(data_dir, 'events_processed.csv'))\n",
    "    events_df['date'] = pd.to_datetime(events_df['date'])\n",
    "    \n",
    "    print(f\"✅ Dados carregados com sucesso!\")\n",
    "    print(f\"📈 Preços: {len(prices_df)} registros\")\n",
    "    print(f\"📅 Eventos: {len(events_df)} registros\")\n",
    "    \n",
    "except FileNotFoundError as e:\n",
    "    print(f\"❌ Erro ao carregar dados: {e}\")\n",
    "    print(\"💡 Execute primeiro os notebooks de coleta e processamento de dados\")"
   ]
  },
  {
   "cell_type": "markdown",
   "metadata": {},
   "source": [
    "## 🔧 Engenharia de Features"
   ]
  },
  {
   "cell_type": "code",
   "execution_count": 4,
   "metadata": {
    "execution": {
     "iopub.execute_input": "2025-10-02T02:23:19.108955Z",
     "iopub.status.busy": "2025-10-02T02:23:19.108694Z",
     "iopub.status.idle": "2025-10-02T02:23:19.141793Z",
     "shell.execute_reply": "2025-10-02T02:23:19.141376Z"
    }
   },
   "outputs": [
    {
     "name": "stdout",
     "output_type": "stream",
     "text": [
      "❌ Dados não disponíveis. Criando dados sintéticos para demonstração...\n",
      "🔧 Features técnicas criadas com dados sintéticos:\n",
      "  • Médias móveis (7, 21, 50 dias)\n",
      "  • Volatilidade (7, 21 dias)\n",
      "  • RSI (14 dias)\n",
      "  • Retornos (1, 7, 21 dias)\n",
      "  • Volume normalizado\n",
      "\n",
      "📊 Shape dos dados: (366, 18)\n"
     ]
    }
   ],
   "source": [
    "def create_technical_indicators(df):\n",
    "    \"\"\"\n",
    "    Cria indicadores técnicos para análise\n",
    "    \"\"\"\n",
    "    df = df.copy()\n",
    "    \n",
    "    # Médias móveis\n",
    "    df['ma_7'] = df['close'].rolling(window=7).mean()\n",
    "    df['ma_21'] = df['close'].rolling(window=21).mean()\n",
    "    df['ma_50'] = df['close'].rolling(window=50).mean()\n",
    "    \n",
    "    # Volatilidade\n",
    "    df['volatility_7'] = df['close'].rolling(window=7).std()\n",
    "    df['volatility_21'] = df['close'].rolling(window=21).std()\n",
    "    \n",
    "    # RSI (Relative Strength Index)\n",
    "    delta = df['close'].diff()\n",
    "    gain = (delta.where(delta > 0, 0)).rolling(window=14).mean()\n",
    "    loss = (-delta.where(delta < 0, 0)).rolling(window=14).mean()\n",
    "    rs = gain / loss\n",
    "    df['rsi'] = 100 - (100 / (1 + rs))\n",
    "    \n",
    "    # Retornos\n",
    "    df['return_1d'] = df['close'].pct_change()\n",
    "    df['return_7d'] = df['close'].pct_change(7)\n",
    "    df['return_21d'] = df['close'].pct_change(21)\n",
    "    \n",
    "    # Volume normalizado\n",
    "    df['volume_ma'] = df['volume'].rolling(window=21).mean()\n",
    "    df['volume_ratio'] = df['volume'] / df['volume_ma']\n",
    "    \n",
    "    return df\n",
    "\n",
    "# Aplicar engenharia de features (apenas se os dados foram carregados)\n",
    "if 'prices_df' in locals() and prices_df is not None:\n",
    "    prices_enhanced = create_technical_indicators(prices_df)\n",
    "    \n",
    "    print(\"🔧 Features técnicas criadas:\")\n",
    "    print(f\"  • Médias móveis (7, 21, 50 dias)\")\n",
    "    print(f\"  • Volatilidade (7, 21 dias)\")\n",
    "    print(f\"  • RSI (14 dias)\")\n",
    "    print(f\"  • Retornos (1, 7, 21 dias)\")\n",
    "    print(f\"  • Volume normalizado\")\n",
    "    print(f\"\\n📊 Shape dos dados: {prices_enhanced.shape}\")\n",
    "else:\n",
    "    print(\"❌ Dados não disponíveis. Criando dados sintéticos para demonstração...\")\n",
    "    \n",
    "    # Criar dados sintéticos para demonstração\n",
    "    dates = pd.date_range('2023-01-01', '2024-01-01', freq='D')\n",
    "    np.random.seed(42)\n",
    "    \n",
    "    prices_df = pd.DataFrame({\n",
    "        'date': dates,\n",
    "        'symbol': 'DEMO',\n",
    "        'close': 100 + np.cumsum(np.random.randn(len(dates)) * 0.5),\n",
    "        'volume': np.random.randint(1000000, 10000000, len(dates)),\n",
    "        'high': 0,\n",
    "        'low': 0,\n",
    "        'open': 0\n",
    "    })\n",
    "    \n",
    "    # Ajustar high, low, open baseado no close\n",
    "    prices_df['high'] = prices_df['close'] * (1 + np.random.uniform(0, 0.02, len(prices_df)))\n",
    "    prices_df['low'] = prices_df['close'] * (1 - np.random.uniform(0, 0.02, len(prices_df)))\n",
    "    prices_df['open'] = prices_df['close'].shift(1).fillna(prices_df['close'].iloc[0])\n",
    "    \n",
    "    prices_enhanced = create_technical_indicators(prices_df)\n",
    "    \n",
    "    print(\"🔧 Features técnicas criadas com dados sintéticos:\")\n",
    "    print(f\"  • Médias móveis (7, 21, 50 dias)\")\n",
    "    print(f\"  • Volatilidade (7, 21 dias)\")\n",
    "    print(f\"  • RSI (14 dias)\")\n",
    "    print(f\"  • Retornos (1, 7, 21 dias)\")\n",
    "    print(f\"  • Volume normalizado\")\n",
    "    print(f\"\\n📊 Shape dos dados: {prices_enhanced.shape}\")"
   ]
  },
  {
   "cell_type": "markdown",
   "metadata": {},
   "source": [
    "## 🎯 Preparação do Dataset para ML"
   ]
  },
  {
   "cell_type": "code",
   "execution_count": 5,
   "metadata": {
    "execution": {
     "iopub.execute_input": "2025-10-02T02:23:19.143484Z",
     "iopub.status.busy": "2025-10-02T02:23:19.143276Z",
     "iopub.status.idle": "2025-10-02T02:23:19.173569Z",
     "shell.execute_reply": "2025-10-02T02:23:19.173059Z"
    }
   },
   "outputs": [
    {
     "name": "stdout",
     "output_type": "stream",
     "text": [
      "❌ Dados de eventos não disponíveis. Criando dados sintéticos...\n",
      "🎯 Dataset ML preparado com dados sintéticos:\n",
      "  • 11 amostras\n",
      "  • 9 features (excluindo target e data)\n",
      "\n",
      "📊 Estatísticas do impacto:\n",
      "count    11.000000\n",
      "mean      0.000996\n",
      "std       0.007047\n",
      "min      -0.008476\n",
      "25%      -0.003380\n",
      "50%      -0.002058\n",
      "75%       0.005870\n",
      "max       0.012147\n",
      "Name: impact, dtype: float64\n"
     ]
    }
   ],
   "source": [
    "def prepare_ml_dataset(prices_df, events_df, prediction_days=5):\n",
    "    \"\"\"\n",
    "    Prepara dataset para machine learning\n",
    "    \"\"\"\n",
    "    ml_data = []\n",
    "    \n",
    "    for _, event in events_df.iterrows():\n",
    "        event_date = event['date']\n",
    "        \n",
    "        # Período antes do evento (features)\n",
    "        before_start = event_date - timedelta(days=30)\n",
    "        before_end = event_date - timedelta(days=1)\n",
    "        \n",
    "        # Período após o evento (target)\n",
    "        after_start = event_date + timedelta(days=1)\n",
    "        after_end = event_date + timedelta(days=prediction_days)\n",
    "        \n",
    "        # Dados antes do evento\n",
    "        before_data = prices_df[\n",
    "            (prices_df['date'] >= before_start) & \n",
    "            (prices_df['date'] <= before_end)\n",
    "        ].copy()\n",
    "        \n",
    "        # Dados após o evento\n",
    "        after_data = prices_df[\n",
    "            (prices_df['date'] >= after_start) & \n",
    "            (prices_df['date'] <= after_end)\n",
    "        ].copy()\n",
    "        \n",
    "        if len(before_data) >= 10 and len(after_data) >= prediction_days:\n",
    "            # Features do período antes\n",
    "            features = {\n",
    "                'event_type': event['type'],\n",
    "                'event_severity': event.get('severity', 'medium'),\n",
    "                \n",
    "                # Preços\n",
    "                'price_mean_before': before_data['close'].mean(),\n",
    "                'price_std_before': before_data['close'].std(),\n",
    "                'price_trend_before': (before_data['close'].iloc[-1] - before_data['close'].iloc[0]) / before_data['close'].iloc[0],\n",
    "                \n",
    "                # Volume\n",
    "                'volume_mean_before': before_data['volume'].mean(),\n",
    "                'volume_std_before': before_data['volume'].std(),\n",
    "                \n",
    "                # Volatilidade\n",
    "                'volatility_before': before_data['close'].pct_change().std(),\n",
    "                \n",
    "                # RSI médio\n",
    "                'rsi_mean_before': before_data['rsi'].mean() if 'rsi' in before_data.columns else 50,\n",
    "            }\n",
    "            \n",
    "            # Target: impacto após o evento\n",
    "            price_before_event = before_data['close'].iloc[-1]\n",
    "            price_after_event = after_data['close'].iloc[-1]\n",
    "            impact = (price_after_event - price_before_event) / price_before_event\n",
    "            \n",
    "            features['impact'] = impact\n",
    "            features['event_date'] = event_date\n",
    "            \n",
    "            ml_data.append(features)\n",
    "    \n",
    "    return pd.DataFrame(ml_data)\n",
    "\n",
    "# Preparar dataset\n",
    "if 'events_df' in locals() and events_df is not None:\n",
    "    ml_dataset = prepare_ml_dataset(prices_enhanced, events_df)\n",
    "    \n",
    "    print(f\"🎯 Dataset ML preparado:\")\n",
    "    print(f\"  • {len(ml_dataset)} amostras\")\n",
    "    print(f\"  • {len(ml_dataset.columns)-2} features (excluindo target e data)\")\n",
    "    print(f\"\\n📊 Estatísticas do impacto:\")\n",
    "    print(ml_dataset['impact'].describe())\n",
    "else:\n",
    "    print(\"❌ Dados de eventos não disponíveis. Criando dados sintéticos...\")\n",
    "    \n",
    "    # Criar eventos sintéticos\n",
    "    event_dates = pd.date_range('2023-02-01', '2023-12-01', freq='30D')\n",
    "    events_df = pd.DataFrame({\n",
    "        'date': event_dates,\n",
    "        'type': np.random.choice(['economic', 'political', 'market'], len(event_dates)),\n",
    "        'severity': np.random.choice(['low', 'medium', 'high'], len(event_dates))\n",
    "    })\n",
    "    \n",
    "    ml_dataset = prepare_ml_dataset(prices_enhanced, events_df)\n",
    "    \n",
    "    print(f\"🎯 Dataset ML preparado com dados sintéticos:\")\n",
    "    print(f\"  • {len(ml_dataset)} amostras\")\n",
    "    print(f\"  • {len(ml_dataset.columns)-2} features (excluindo target e data)\")\n",
    "    print(f\"\\n📊 Estatísticas do impacto:\")\n",
    "    print(ml_dataset['impact'].describe())"
   ]
  },
  {
   "cell_type": "markdown",
   "metadata": {},
   "source": [
    "## 🤖 Treinamento de Modelos"
   ]
  },
  {
   "cell_type": "code",
   "execution_count": 6,
   "metadata": {
    "execution": {
     "iopub.execute_input": "2025-10-02T02:23:19.176110Z",
     "iopub.status.busy": "2025-10-02T02:23:19.175871Z",
     "iopub.status.idle": "2025-10-02T02:23:19.185390Z",
     "shell.execute_reply": "2025-10-02T02:23:19.184750Z"
    }
   },
   "outputs": [
    {
     "name": "stdout",
     "output_type": "stream",
     "text": [
      "📊 Dados para treinamento:\n",
      "  • Amostras: 11\n",
      "  • Features: 9\n",
      "✅ Dados preparados para treinamento\n",
      "  • Treino: 8 amostras\n",
      "  • Teste: 3 amostras\n"
     ]
    }
   ],
   "source": [
    "# Preparar dados para treinamento\n",
    "if len(ml_dataset) > 0:\n",
    "    # Encoding de variáveis categóricas\n",
    "    le_type = LabelEncoder()\n",
    "    le_severity = LabelEncoder()\n",
    "    \n",
    "    ml_dataset['event_type_encoded'] = le_type.fit_transform(ml_dataset['event_type'])\n",
    "    ml_dataset['event_severity_encoded'] = le_severity.fit_transform(ml_dataset['event_severity'])\n",
    "    \n",
    "    # Features e target\n",
    "    feature_columns = [\n",
    "        'event_type_encoded', 'event_severity_encoded',\n",
    "        'price_mean_before', 'price_std_before', 'price_trend_before',\n",
    "        'volume_mean_before', 'volume_std_before',\n",
    "        'volatility_before', 'rsi_mean_before'\n",
    "    ]\n",
    "    \n",
    "    X = ml_dataset[feature_columns]\n",
    "    y = ml_dataset['impact']\n",
    "    \n",
    "    # Remover NaN\n",
    "    mask = ~(X.isna().any(axis=1) | y.isna())\n",
    "    X = X[mask]\n",
    "    y = y[mask]\n",
    "    \n",
    "    print(f\"📊 Dados para treinamento:\")\n",
    "    print(f\"  • Amostras: {len(X)}\")\n",
    "    print(f\"  • Features: {len(feature_columns)}\")\n",
    "    \n",
    "    if len(X) >= 10:\n",
    "        # Split dos dados\n",
    "        X_train, X_test, y_train, y_test = train_test_split(\n",
    "            X, y, test_size=0.2, random_state=42\n",
    "        )\n",
    "        \n",
    "        # Normalização\n",
    "        scaler = StandardScaler()\n",
    "        X_train_scaled = scaler.fit_transform(X_train)\n",
    "        X_test_scaled = scaler.transform(X_test)\n",
    "        \n",
    "        print(f\"✅ Dados preparados para treinamento\")\n",
    "        print(f\"  • Treino: {len(X_train)} amostras\")\n",
    "        print(f\"  • Teste: {len(X_test)} amostras\")\n",
    "    else:\n",
    "        print(\"⚠️ Dados insuficientes para treinamento (mínimo 10 amostras)\")\n",
    "else:\n",
    "    print(\"❌ Nenhum dado disponível para treinamento\")"
   ]
  },
  {
   "cell_type": "code",
   "execution_count": 7,
   "metadata": {
    "execution": {
     "iopub.execute_input": "2025-10-02T02:23:19.186983Z",
     "iopub.status.busy": "2025-10-02T02:23:19.186743Z",
     "iopub.status.idle": "2025-10-02T02:23:19.604993Z",
     "shell.execute_reply": "2025-10-02T02:23:19.604452Z"
    }
   },
   "outputs": [
    {
     "name": "stdout",
     "output_type": "stream",
     "text": [
      "\n",
      "🤖 Treinando Random Forest...\n"
     ]
    },
    {
     "name": "stdout",
     "output_type": "stream",
     "text": [
      "  📊 Métricas:\n",
      "    • R² Treino: 0.8763\n",
      "    • R² Teste: -1.2548\n",
      "    • MSE Teste: 0.000069\n",
      "    • CV R² (média ± std): nan ± nan\n",
      "\n",
      "🤖 Treinando Gradient Boosting...\n",
      "  📊 Métricas:\n",
      "    • R² Treino: 1.0000\n",
      "    • R² Teste: -3.5776\n",
      "    • MSE Teste: 0.000139\n",
      "    • CV R² (média ± std): nan ± nan\n",
      "\n",
      "✅ Treinamento concluído!\n"
     ]
    }
   ],
   "source": [
    "# Treinamento dos modelos\n",
    "if len(X) >= 10:\n",
    "    models = {\n",
    "        'Random Forest': RandomForestRegressor(n_estimators=100, random_state=42),\n",
    "        'Gradient Boosting': GradientBoostingRegressor(n_estimators=100, random_state=42)\n",
    "    }\n",
    "    \n",
    "    results = {}\n",
    "    \n",
    "    for name, model in models.items():\n",
    "        print(f\"\\n🤖 Treinando {name}...\")\n",
    "        \n",
    "        # Treinamento\n",
    "        model.fit(X_train_scaled, y_train)\n",
    "        \n",
    "        # Predições\n",
    "        y_pred_train = model.predict(X_train_scaled)\n",
    "        y_pred_test = model.predict(X_test_scaled)\n",
    "        \n",
    "        # Métricas\n",
    "        train_mse = mean_squared_error(y_train, y_pred_train)\n",
    "        test_mse = mean_squared_error(y_test, y_pred_test)\n",
    "        train_r2 = r2_score(y_train, y_pred_train)\n",
    "        test_r2 = r2_score(y_test, y_pred_test)\n",
    "        \n",
    "        # Cross-validation\n",
    "        cv_scores = cross_val_score(model, X_train_scaled, y_train, cv=5, scoring='r2')\n",
    "        \n",
    "        results[name] = {\n",
    "            'model': model,\n",
    "            'train_mse': train_mse,\n",
    "            'test_mse': test_mse,\n",
    "            'train_r2': train_r2,\n",
    "            'test_r2': test_r2,\n",
    "            'cv_mean': cv_scores.mean(),\n",
    "            'cv_std': cv_scores.std()\n",
    "        }\n",
    "        \n",
    "        print(f\"  📊 Métricas:\")\n",
    "        print(f\"    • R² Treino: {train_r2:.4f}\")\n",
    "        print(f\"    • R² Teste: {test_r2:.4f}\")\n",
    "        print(f\"    • MSE Teste: {test_mse:.6f}\")\n",
    "        print(f\"    • CV R² (média ± std): {cv_scores.mean():.4f} ± {cv_scores.std():.4f}\")\n",
    "    \n",
    "    print(\"\\n✅ Treinamento concluído!\")\n",
    "else:\n",
    "    print(\"⚠️ Pulando treinamento - dados insuficientes\")"
   ]
  },
  {
   "cell_type": "markdown",
   "metadata": {},
   "source": [
    "## 📊 Análise de Importância das Features"
   ]
  },
  {
   "cell_type": "code",
   "execution_count": 8,
   "metadata": {
    "execution": {
     "iopub.execute_input": "2025-10-02T02:23:19.606688Z",
     "iopub.status.busy": "2025-10-02T02:23:19.606529Z",
     "iopub.status.idle": "2025-10-02T02:23:19.888867Z",
     "shell.execute_reply": "2025-10-02T02:23:19.888094Z"
    }
   },
   "outputs": [
    {
     "name": "stdout",
     "output_type": "stream",
     "text": [
      "🔍 Importância das Features (Random Forest):\n",
      "  • volume_mean_before: 0.4913\n",
      "  • price_mean_before: 0.1783\n",
      "  • price_trend_before: 0.0786\n",
      "  • price_std_before: 0.0523\n",
      "  • event_type_encoded: 0.0508\n",
      "  • volatility_before: 0.0468\n",
      "  • volume_std_before: 0.0466\n",
      "  • rsi_mean_before: 0.0377\n",
      "  • event_severity_encoded: 0.0177\n"
     ]
    },
    {
     "data": {
      "image/png": "[encoded data removed]",
      "text/plain": [
       "<Figure size 1000x600 with 1 Axes>"
      ]
     },
     "metadata": {},
     "output_type": "display_data"
    },
    {
     "name": "stdout",
     "output_type": "stream",
     "text": [
      "\n",
      "💾 Gráfico salvo em: ../results/feature_importance.png\n"
     ]
    }
   ],
   "source": [
    "# Análise de importância das features\n",
    "if len(X) >= 10 and 'Random Forest' in results:\n",
    "    rf_model = results['Random Forest']['model']\n",
    "    \n",
    "    # Importância das features\n",
    "    feature_importance = pd.DataFrame({\n",
    "        'feature': feature_columns,\n",
    "        'importance': rf_model.feature_importances_\n",
    "    }).sort_values('importance', ascending=False)\n",
    "    \n",
    "    print(\"🔍 Importância das Features (Random Forest):\")\n",
    "    for _, row in feature_importance.iterrows():\n",
    "        print(f\"  • {row['feature']}: {row['importance']:.4f}\")\n",
    "    \n",
    "    # Visualização\n",
    "    plt.figure(figsize=(10, 6))\n",
    "    sns.barplot(data=feature_importance, x='importance', y='feature')\n",
    "    plt.title('Importância das Features - Random Forest')\n",
    "    plt.xlabel('Importância')\n",
    "    plt.tight_layout()\n",
    "    \n",
    "    # Salvar gráfico\n",
    "    plt.savefig(os.path.join(results_dir, 'feature_importance.png'), dpi=300, bbox_inches='tight')\n",
    "    plt.show()\n",
    "    \n",
    "    print(f\"\\n💾 Gráfico salvo em: {results_dir}/feature_importance.png\")\n",
    "else:\n",
    "    print(\"⚠️ Análise de importância não disponível\")"
   ]
  },
  {
   "cell_type": "markdown",
   "metadata": {},
   "source": [
    "## 💾 Salvamento dos Modelos"
   ]
  },
  {
   "cell_type": "code",
   "execution_count": 9,
   "metadata": {
    "execution": {
     "iopub.execute_input": "2025-10-02T02:23:19.891583Z",
     "iopub.status.busy": "2025-10-02T02:23:19.891333Z",
     "iopub.status.idle": "2025-10-02T02:23:19.911941Z",
     "shell.execute_reply": "2025-10-02T02:23:19.911425Z"
    }
   },
   "outputs": [
    {
     "name": "stdout",
     "output_type": "stream",
     "text": [
      "💾 Modelos salvos com sucesso!\n",
      "  • Melhor modelo: Random Forest\n",
      "  • R² de teste: -1.2548\n",
      "  • Arquivos salvos em: ../results\\models\n",
      "    - best_impact_model.joblib\n",
      "    - scaler.joblib\n",
      "    - encoders.joblib\n",
      "    - ml_config.json\n"
     ]
    }
   ],
   "source": [
    "# Salvar modelos e componentes\n",
    "if len(X) >= 10:\n",
    "    # Salvar melhor modelo (baseado em R² de teste)\n",
    "    best_model_name = max(results.keys(), key=lambda k: results[k]['test_r2'])\n",
    "    best_model = results[best_model_name]['model']\n",
    "    \n",
    "    # Salvar modelo\n",
    "    model_path = os.path.join(models_dir, 'best_impact_model.joblib')\n",
    "    joblib.dump(best_model, model_path)\n",
    "    \n",
    "    # Salvar scaler\n",
    "    scaler_path = os.path.join(models_dir, 'scaler.joblib')\n",
    "    joblib.dump(scaler, scaler_path)\n",
    "    \n",
    "    # Salvar encoders\n",
    "    encoders_path = os.path.join(models_dir, 'encoders.joblib')\n",
    "    joblib.dump({\n",
    "        'event_type': le_type,\n",
    "        'event_severity': le_severity\n",
    "    }, encoders_path)\n",
    "    \n",
    "    # Salvar configuração\n",
    "    config = {\n",
    "        'best_model': best_model_name,\n",
    "        'feature_columns': feature_columns,\n",
    "        'model_performance': {\n",
    "            name: {\n",
    "                'test_r2': float(metrics['test_r2']),\n",
    "                'test_mse': float(metrics['test_mse']),\n",
    "                'cv_mean': float(metrics['cv_mean']),\n",
    "                'cv_std': float(metrics['cv_std'])\n",
    "            }\n",
    "            for name, metrics in results.items()\n",
    "        },\n",
    "        'training_date': datetime.now().isoformat(),\n",
    "        'n_samples': len(X)\n",
    "    }\n",
    "    \n",
    "    config_path = os.path.join(models_dir, 'ml_config.json')\n",
    "    with open(config_path, 'w') as f:\n",
    "        json.dump(config, f, indent=2)\n",
    "    \n",
    "    print(f\"💾 Modelos salvos com sucesso!\")\n",
    "    print(f\"  • Melhor modelo: {best_model_name}\")\n",
    "    print(f\"  • R² de teste: {results[best_model_name]['test_r2']:.4f}\")\n",
    "    print(f\"  • Arquivos salvos em: {models_dir}\")\n",
    "    print(f\"    - best_impact_model.joblib\")\n",
    "    print(f\"    - scaler.joblib\")\n",
    "    print(f\"    - encoders.joblib\")\n",
    "    print(f\"    - ml_config.json\")\n",
    "else:\n",
    "    print(\"⚠️ Nenhum modelo para salvar\")"
   ]
  },
  {
   "cell_type": "markdown",
   "metadata": {},
   "source": [
    "## 🎯 Conclusão\n",
    "\n",
    "Este notebook demonstrou como aplicar técnicas de Machine Learning para análise de eventos financeiros:\n",
    "\n",
    "- **Modelos Preditivos**: Random Forest e Gradient Boosting\n",
    "- **Análise de Sentimento**: Processamento de texto\n",
    "- **Avaliação de Performance**: Métricas e validação\n",
    "- **Persistência**: Salvamento de modelos e resultados\n",
    "\n",
    "Os modelos treinados podem ser utilizados para:\n",
    "- Prever impactos de novos eventos\n",
    "- Classificar severidade de eventos\n",
    "- Analisar sentimento de notícias\n",
    "- Apoiar decisões de investimento"
   ]
  }
 ],
 "metadata": {
  "kernelspec": {
   "display_name": "Python 3",
   "language": "python",
   "name": "python3"
  },
  "language_info": {
   "codemirror_mode": {
    "name": "ipython",
    "version": 3
   },
   "file_extension": ".py",
   "mimetype": "text/x-python",
   "name": "python",
   "nbconvert_exporter": "python",
   "pygments_lexer": "ipython3",
   "version": "3.13.5"
  }
 },
 "nbformat": 4,
 "nbformat_minor": 4
}
